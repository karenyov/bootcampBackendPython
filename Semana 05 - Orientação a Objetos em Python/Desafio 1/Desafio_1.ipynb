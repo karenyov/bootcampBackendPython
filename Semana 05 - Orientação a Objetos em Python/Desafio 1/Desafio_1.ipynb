{
  "nbformat": 4,
  "nbformat_minor": 0,
  "metadata": {
    "colab": {
      "provenance": []
    },
    "kernelspec": {
      "name": "python3",
      "display_name": "Python 3"
    },
    "language_info": {
      "name": "python"
    }
  },
  "cells": [
    {
      "cell_type": "markdown",
      "source": [
        "# Crie uma classe que modele o objeto \"carro\".\n",
        "# Um carro tem os seguintes atributos: ligado, cor, modelo, velocidade.\n",
        "# Um carro tem os seguintes comportamentos: liga, desliga, acelera, desacelera.\n",
        "\n",
        "\n",
        "\n",
        "# Crie uma instância da classe carro.\n",
        "\n",
        "\n",
        "# Faça o carro \"andar\" utilizando os métodos da sua classe.\n",
        "\n",
        "\n",
        "# Faça o carro \"parar\" utilizando os métodos da sua classe."
      ],
      "metadata": {
        "id": "f5Nr8GjbvAtu"
      }
    },
    {
      "cell_type": "code",
      "source": [
        "class Carro:\n",
        "  def __init__(self):\n",
        "    self.ligado = False\n",
        "    self.cor = \"cinza\"\n",
        "    self.modelo = \"Default\"\n",
        "    self.velocidade = 1\n",
        "\n",
        "\n",
        "  def ligar(self):\n",
        "    self.ligado = True\n",
        "\n",
        "  def desligar(self):\n",
        "    self.ligado = False\n",
        "\n",
        "  def acelerar(self):\n",
        "    if not self.ligado:\n",
        "      return\n",
        "\n",
        "    if self.velocidade < 120:\n",
        "      self.velocidade += 1\n",
        "\n",
        "  def desacelar(self):\n",
        "    if not self.ligado:\n",
        "      return\n",
        "\n",
        "    if self.velocidade > 0:\n",
        "      self.velocidade -= 1\n",
        "\n",
        "  def __str__(self) -> str:\n",
        "    return f\"Carro - ligado {self.ligado} - Cor {self.cor} - Modelo {self.modelo} - Velocidade {self.velocidade}\"\n",
        "\n",
        "carro = Carro()\n",
        "carro.ligar()\n",
        "\n",
        "carro.acelerar()\n",
        "carro.desacelar()\n",
        "carro.desligar()\n",
        "print(carro)\n"
      ],
      "metadata": {
        "colab": {
          "base_uri": "https://localhost:8080/"
        },
        "id": "y92j9JkkvDN9",
        "outputId": "f3cb7e96-a5dd-4e56-8bb5-b5840929efe5"
      },
      "execution_count": 4,
      "outputs": [
        {
          "output_type": "stream",
          "name": "stdout",
          "text": [
            "Carro - ligado False - Cor cinza - Modelo Default - Velocidade 1\n"
          ]
        }
      ]
    }
  ]
}