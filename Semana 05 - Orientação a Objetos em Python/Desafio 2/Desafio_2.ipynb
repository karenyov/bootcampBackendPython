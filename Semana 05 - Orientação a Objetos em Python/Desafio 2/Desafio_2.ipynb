{
  "nbformat": 4,
  "nbformat_minor": 0,
  "metadata": {
    "colab": {
      "provenance": []
    },
    "kernelspec": {
      "name": "python3",
      "display_name": "Python 3"
    },
    "language_info": {
      "name": "python"
    }
  },
  "cells": [
    {
      "cell_type": "code",
      "execution_count": 2,
      "metadata": {
        "colab": {
          "base_uri": "https://localhost:8080/"
        },
        "id": "duPiwJVlumgN",
        "outputId": "1841deea-9d8a-49df-88c6-0db11fb461e0"
      },
      "outputs": [
        {
          "output_type": "stream",
          "name": "stdout",
          "text": [
            "Saldo após depósito: 500\n",
            "Saldo após saque: -500\n",
            "Operações realizadas: ['Depósito: 500', 'Saque: 1000']\n"
          ]
        }
      ],
      "source": [
        "from abc import ABC, abstractmethod\n",
        "\n",
        "class Cliente(ABC):\n",
        "  def __init__(self, nome, telefone, renda_mensal):\n",
        "    self._nome = nome\n",
        "    self._telefone = telefone\n",
        "    self._renda_mensal = renda_mensal\n",
        "\n",
        "  @property\n",
        "  def nome(self):\n",
        "    return self.nome\n",
        "\n",
        "  @property\n",
        "  def telefone(self):\n",
        "    return self._telefone\n",
        "\n",
        "  @property\n",
        "  def renda_mensal(self):\n",
        "    return self._renda_mensal\n",
        "\n",
        "  @abstractmethod\n",
        "  def cheque_especial(self):\n",
        "    pass\n",
        "\n",
        "class ClienteMulher(Cliente):\n",
        "  def cheque_especial(self):\n",
        "    return self._renda_mensal\n",
        "\n",
        "class ClienteHomem(Cliente):\n",
        "  def cheque_especial(self):\n",
        "    return 0\n",
        "\n",
        "class ContaCorrente:\n",
        "  def __init__(self):\n",
        "    self._clientes = []\n",
        "    self._saldo = 0\n",
        "    self._operacoes = []\n",
        "\n",
        "  def adicionar_cliente(self, cliente):\n",
        "    self._clientes.append(cliente)\n",
        "\n",
        "  def sacar(self, valor):\n",
        "    if valor > self._saldo + self.cheque_especial():\n",
        "      raise ValueError(\"Saldo insuficiente\")\n",
        "    self._saldo -= valor\n",
        "    self._operacoes.append(f\"Saque: {valor}\")\n",
        "\n",
        "  def depositar(self, valor):\n",
        "    self._saldo += valor\n",
        "    self._operacoes.append(f\"Depósito: {valor}\")\n",
        "\n",
        "  def cheque_especial(self):\n",
        "    return max(cliente.cheque_especial() for cliente in self._clientes)\n",
        "\n",
        "  @property\n",
        "  def saldo(self):\n",
        "    return self._saldo\n",
        "\n",
        "  @property\n",
        "  def operacoes(self):\n",
        "    return self._operacoes\n",
        "\n",
        "# Exemplos de uso\n",
        "cliente1 = ClienteMulher(nome=\"Ana\", telefone=\"1234-5678\", renda_mensal=3000)\n",
        "cliente2 = ClienteHomem(nome=\"João\", telefone=\"8765-4321\", renda_mensal=2500)\n",
        "\n",
        "conta = ContaCorrente()\n",
        "conta.adicionar_cliente(cliente1)\n",
        "conta.adicionar_cliente(cliente2)\n",
        "\n",
        "conta.depositar(500)\n",
        "print(f\"Saldo após depósito: {conta.saldo}\")\n",
        "\n",
        "conta.sacar(1000)\n",
        "print(f\"Saldo após saque: {conta.saldo}\")\n",
        "\n",
        "print(f\"Operações realizadas: {conta.operacoes}\")"
      ]
    }
  ]
}