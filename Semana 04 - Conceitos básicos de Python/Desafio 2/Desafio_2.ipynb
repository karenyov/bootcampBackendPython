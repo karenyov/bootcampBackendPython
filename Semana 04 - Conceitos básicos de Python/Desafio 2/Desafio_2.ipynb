{
  "nbformat": 4,
  "nbformat_minor": 0,
  "metadata": {
    "colab": {
      "provenance": []
    },
    "kernelspec": {
      "name": "python3",
      "display_name": "Python 3"
    },
    "language_info": {
      "name": "python"
    }
  },
  "cells": [
    {
      "cell_type": "markdown",
      "source": [
        "# Exercícios Tomada de Decisão\n"
      ],
      "metadata": {
        "id": "g0AIFE9c72Rx"
      }
    },
    {
      "cell_type": "markdown",
      "source": [
        "## 1.  Faça um Programa que peça dois números e imprima o maior deles."
      ],
      "metadata": {
        "id": "mzXjgVjS78rG"
      }
    },
    {
      "cell_type": "code",
      "source": [
        "numero1 = int(input(\"Digite o primeiro número: \"))\n",
        "numero2 = int(input(\"Digite o segundo número: \"))\n",
        "\n",
        "if (numero1 > numero2) :\n",
        "  print(f\"O maior número é o primeiro: {numero1}\")\n",
        "elif (numero2 > numero1):\n",
        "  print(f\"O maior número é o segundo: {numero2}\")\n",
        "else:\n",
        "  print(\"Os números são iguais!\")\n",
        "\n"
      ],
      "metadata": {
        "colab": {
          "base_uri": "https://localhost:8080/"
        },
        "id": "aExyWDOi8N_Y",
        "outputId": "ac4beea1-9ee5-4347-9b53-132c9b03a889"
      },
      "execution_count": 1,
      "outputs": [
        {
          "output_type": "stream",
          "name": "stdout",
          "text": [
            "Digite o primeiro número: 4\n",
            "Digite o segundo número: 5\n",
            "O maior número é o segundo 5\n"
          ]
        }
      ]
    },
    {
      "cell_type": "markdown",
      "source": [
        "## 2. Faça um Programa que pergunte em que turno você estuda. Peça para digitar M-matutino ou V-Vespertino ou N- Noturno. Imprima a mensagem \"Bom Dia!\", \"Boa Tarde!\" ou \"Boa Noite!\" ou \"Valor Inválido!\", conforme o caso"
      ],
      "metadata": {
        "id": "YjgioSnw_QAI"
      }
    },
    {
      "cell_type": "code",
      "source": [
        "print(\"Digite M-matutino ou V-Vespertino ou N- Noturno\")\n",
        "turno = input(\"Em qual turno você estuda?\").isupper()\n",
        "\n",
        "if turno == \"M\" :\n",
        "  print(\"Bom Dia!\")\n",
        "elif turno == \"V\" :\n",
        "  print(\"Boa Tarde!\")\n",
        "elif turno == \"N\":\n",
        "  print(\"Boa Noite!\")\n",
        "else:\n",
        "  print(\"Valor Inválido!\")"
      ],
      "metadata": {
        "colab": {
          "base_uri": "https://localhost:8080/"
        },
        "id": "BNBHCvj-_aVT",
        "outputId": "071184dd-992b-4429-9b74-a2cf0fd894df"
      },
      "execution_count": 2,
      "outputs": [
        {
          "output_type": "stream",
          "name": "stdout",
          "text": [
            "Digite M-matutino ou V-Vespertino ou N- Noturno\n",
            "Em qual turno você estuda?z\n",
            "Valor Inválido!\n"
          ]
        }
      ]
    },
    {
      "cell_type": "markdown",
      "source": [
        "## 3. Faça um programa que peça uma nota, entre zero e dez. Mostre uma mensagem caso o valor seja inválido e continue pedindo até que o usuário informe um valor válido.\n"
      ],
      "metadata": {
        "id": "99i6X4p_AaZ-"
      }
    },
    {
      "cell_type": "code",
      "source": [
        "while True:\n",
        "  nota = float(input(\"Digite uma nota(0-10): \"))\n",
        "  if nota >= 0 and nota <= 10:\n",
        "    break\n",
        "\n",
        "print(f\"A nota digitada foi {nota:.1f}\")\n",
        "\n"
      ],
      "metadata": {
        "colab": {
          "base_uri": "https://localhost:8080/"
        },
        "id": "TR6Do7UFArU5",
        "outputId": "74a2334e-2470-43e7-c67f-e7fd4c5e5096"
      },
      "execution_count": 4,
      "outputs": [
        {
          "output_type": "stream",
          "name": "stdout",
          "text": [
            "Digite uma nota(0-10): 4\n",
            "A nota digitada foi 4.00\n"
          ]
        }
      ]
    },
    {
      "cell_type": "markdown",
      "source": [
        "## 4. Implemente um programa que classifique um aluno com base em sua pontuação em um exame. O programa deverá solicitar uma nota de 0 a 10. Se a pontuação for maior ou igual a 7, o aluno é aprovado; caso contrário, é reprovado."
      ],
      "metadata": {
        "id": "Z6OxnazABwsn"
      }
    },
    {
      "cell_type": "code",
      "source": [
        "while True:\n",
        "  nota = float(input(\"Digite uma nota(0-10): \"))\n",
        "  if nota >= 0 and nota <= 10:\n",
        "    break\n",
        "\n",
        "if nota >= 7:\n",
        "  print(\"Aprovado!\")\n",
        "else:\n",
        "  print(\"Reprovado!\")\n",
        "\n",
        "print(f\"A nota digitada foi {nota:.1f}\")\n"
      ],
      "metadata": {
        "colab": {
          "base_uri": "https://localhost:8080/"
        },
        "id": "-3iR4hXMB405",
        "outputId": "c2539932-7ff4-43c3-dbdc-c94aa2145149"
      },
      "execution_count": 5,
      "outputs": [
        {
          "output_type": "stream",
          "name": "stdout",
          "text": [
            "Digite uma nota(0-10): 5\n",
            "Reprovado!\n",
            "A nota digitada foi 5.0\n"
          ]
        }
      ]
    },
    {
      "cell_type": "markdown",
      "source": [
        "## 5. Desenvolva um programa que solicite ao usuário os comprimentos dos três lados de um triângulo e classifique-o como equilátero, isósceles ou escaleno.\n",
        "\n",
        "*   equilátero: todos os lados com o mesmo valor\n",
        "*   isósceles: dois lados com o mesmo valor\n",
        "*   escaleno: todos os lados com medidas distintas\n",
        "\n"
      ],
      "metadata": {
        "id": "NZ_eoQXBCtrm"
      }
    },
    {
      "cell_type": "code",
      "source": [
        "lados = []\n",
        "for i in range(3):\n",
        "    comprimento = float(input(f\"Digite o comprimento do lado {i + 1}: \"))\n",
        "    lados.append(comprimento)\n",
        "\n",
        "if lados[0] == lados[1] == lados[2]:\n",
        "  print(\"Equilátero\")\n",
        "elif lados[0] == lados[1] or lados[1] == lados[2] or lados[0] == lados[2]:\n",
        "  print(\"Isósceles\")\n",
        "else:\n",
        "  print(\"Escaleno\")"
      ],
      "metadata": {
        "colab": {
          "base_uri": "https://localhost:8080/"
        },
        "id": "HNNVqTc9C6Ox",
        "outputId": "6ec2976e-41cf-4543-d3ee-9cf1901e5441"
      },
      "execution_count": 6,
      "outputs": [
        {
          "output_type": "stream",
          "name": "stdout",
          "text": [
            "Digite o comprimento do lado 1: 3\n",
            "Digite o comprimento do lado 2: 4\n",
            "Digite o comprimento do lado 3: 1\n",
            "Escaleno\n"
          ]
        }
      ]
    },
    {
      "cell_type": "markdown",
      "source": [
        "## 6. Crie um programa que solicite ao usuário um login e uma senha. O programa deve permitir o acesso apenas se o usuário for \"admin\" e a senha for \"admin123\", caso contrário imprima uma mensagem de erro.\n"
      ],
      "metadata": {
        "id": "ENNgJyrVD3y3"
      }
    },
    {
      "cell_type": "code",
      "source": [
        "while True:\n",
        "  login = input(\"Digite o login: \")\n",
        "  senha = input(\"Digite a senha: \")\n",
        "\n",
        "  if login != \"admin\" or senha != \"admin123\":\n",
        "    print(\"Usuário/senha inválidos!\")\n",
        "  else:\n",
        "    print(\"Bem-vindo!\")\n",
        "    break\n"
      ],
      "metadata": {
        "colab": {
          "base_uri": "https://localhost:8080/"
        },
        "id": "WMBLU58fFOdy",
        "outputId": "861900e7-ace3-4655-a094-c6fe1b10c141"
      },
      "execution_count": 8,
      "outputs": [
        {
          "output_type": "stream",
          "name": "stdout",
          "text": [
            "Digite o login: admin\n",
            "Digite a senha: admin123\n",
            "Bem-vindo!\n"
          ]
        }
      ]
    },
    {
      "cell_type": "markdown",
      "source": [
        "## 7. Desenvolver um programa que solicite a idade do usuário e identifique se ele é uma criança, um adolescente, adulto ou idoso.\n"
      ],
      "metadata": {
        "id": "r-6vsiYJMCox"
      }
    },
    {
      "cell_type": "code",
      "source": [
        "idade = int(input(\"Digite sua idade? \"))\n",
        "\n",
        "if idade <= 12 :\n",
        "  print(\"Você é uma criança\")\n",
        "elif idade > 12 and idade < 18:\n",
        "  print(\"Você é um adolescente\")\n",
        "elif idade >= 18 and idade <= 50:\n",
        "  print(\"Você é um adulto\")\n",
        "else:\n",
        "  print(\"Você é um idoso\")"
      ],
      "metadata": {
        "colab": {
          "base_uri": "https://localhost:8080/"
        },
        "id": "FizsuS3AMs2S",
        "outputId": "2daa9666-9d47-4710-c3dc-5a3c4d6a909a"
      },
      "execution_count": 9,
      "outputs": [
        {
          "output_type": "stream",
          "name": "stdout",
          "text": [
            "Digite sua idade? 56\n",
            "Você é um idoso\n"
          ]
        }
      ]
    },
    {
      "cell_type": "markdown",
      "source": [
        "##  8. Criar um programa em Python que solicite três números ao usuário, utilize estruturas condicionais para determinar o maior entre eles e apresente o resultado."
      ],
      "metadata": {
        "id": "_VXr-fzaNnJb"
      }
    },
    {
      "cell_type": "code",
      "source": [
        "numero1 = int(input(\"Digite o primeiro número: \"))\n",
        "numero2 = int(input(\"Digite o segundo número: \"))\n",
        "numero3 = int(input(\"Digite o terceiro número: \"))\n",
        "\n",
        "if numero1 > numero2 and numero1 > numero3:\n",
        "  print(\"O primeiro número é o maior\")\n",
        "elif numero2 > numero1 and numero2 > numero3:\n",
        "  print(\"O segundo número é o maior\")\n",
        "elif numero3 > numero1 and numero3 > numero2:\n",
        "  print(\"O terceiro número é o maior\")\n",
        "else:\n",
        "  print(\"os números são iguais\")"
      ],
      "metadata": {
        "colab": {
          "base_uri": "https://localhost:8080/"
        },
        "id": "1beKUrOrN_eb",
        "outputId": "7b1726c4-d69e-4198-943b-4e8406848b7e"
      },
      "execution_count": 12,
      "outputs": [
        {
          "output_type": "stream",
          "name": "stdout",
          "text": [
            "Digite o primeiro número: 4\n",
            "Digite o segundo número: 10\n",
            "Digite o terceiro número: 3\n",
            "O segundo número é o maior\n"
          ]
        }
      ]
    },
    {
      "cell_type": "markdown",
      "source": [
        "## 9. O programa deve calcular e apresentar a quantidade de números pares e ímpares inseridos. O processo de leitura deve ser encerrado quando o usuário informar o valor zero. Certifique-se de incluir validações para garantir que apenas números positivos sejam considerados na contagem e cálculos.\n"
      ],
      "metadata": {
        "id": "wTjyYnLTOqx6"
      }
    },
    {
      "cell_type": "code",
      "source": [
        "pares = 0\n",
        "impares = 0\n",
        "\n",
        "while True:\n",
        "  numero = int(input(\"Digite um número positivo (ou 0 para encerrar): \"))\n",
        "  if numero < 0:\n",
        "      print(\"Por favor, insira apenas números positivos.\")\n",
        "  if numero == 0:\n",
        "    break\n",
        "  if numero % 2 == 0:\n",
        "    pares += 1\n",
        "  else:\n",
        "    impares += 1\n",
        "\n",
        "print(f\"Quantidade de números pares: {pares}\")\n",
        "print(f\"Quantidade de números ímpares: {impares}\")"
      ],
      "metadata": {
        "colab": {
          "base_uri": "https://localhost:8080/"
        },
        "id": "5je6-L8aOvKv",
        "outputId": "fe766591-75ea-4c0d-cbb7-3538bbef84cd"
      },
      "execution_count": 13,
      "outputs": [
        {
          "output_type": "stream",
          "name": "stdout",
          "text": [
            "Digite um número positivo (ou 0 para encerrar): 4\n",
            "Digite um número positivo (ou 0 para encerrar): 5\n",
            "Digite um número positivo (ou 0 para encerrar): 8\n",
            "Digite um número positivo (ou 0 para encerrar): 0\n",
            "Quantidade de números pares: 2\n",
            "Quantidade de números ímpares: 1\n"
          ]
        }
      ]
    },
    {
      "cell_type": "markdown",
      "source": [
        "## 10. Faça um programa que lê três números inteiros e os mostra em ordem crescente."
      ],
      "metadata": {
        "id": "m1Ri2C5EOxWG"
      }
    },
    {
      "cell_type": "code",
      "source": [
        "numeros = []\n",
        "for i in range(3):\n",
        "  numero = int(input(f\"Digite o {i+1}º número: \"))\n",
        "  numeros.append(numero)\n",
        "numeros.sort()\n",
        "print(\"Números em ordem crescente:\", numeros)"
      ],
      "metadata": {
        "colab": {
          "base_uri": "https://localhost:8080/"
        },
        "id": "75Mt_-aEOx9M",
        "outputId": "3999bd4b-1292-42e4-81eb-4770eaacdebb"
      },
      "execution_count": 15,
      "outputs": [
        {
          "output_type": "stream",
          "name": "stdout",
          "text": [
            "Digite o 1º número: 4\n",
            "Digite o 2º número: 5\n",
            "Digite o 3º número: 8\n",
            "Números em ordem crescente: [4, 5, 8]\n"
          ]
        }
      ]
    }
  ]
}