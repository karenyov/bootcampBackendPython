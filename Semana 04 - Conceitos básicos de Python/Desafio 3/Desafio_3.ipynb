{
  "nbformat": 4,
  "nbformat_minor": 0,
  "metadata": {
    "colab": {
      "provenance": []
    },
    "kernelspec": {
      "name": "python3",
      "display_name": "Python 3"
    },
    "language_info": {
      "name": "python"
    }
  },
  "cells": [
    {
      "cell_type": "markdown",
      "source": [
        "# Exercícios Tuplas, Listas e Dicionários"
      ],
      "metadata": {
        "id": "2LrWUZsRcfWb"
      }
    },
    {
      "cell_type": "markdown",
      "source": [
        "## 1. Utilizando listas faça um programa que faça 5 perguntas para uma pessoa sobre um crime.\n",
        "\n",
        "As perguntas são:\n",
        "\n",
        "*   \"\"Telefonou para a vítima?\"\"\n",
        "*   \"\"Esteve no local do crime?\"\"\n",
        "*   \"\"Mora perto da vítima?\"\"\n",
        "*   \"\"Devia para a vítima?\"\"\n",
        "*   \"\"Já trabalhou com a vítima?\"\"\n",
        "\n",
        "O programa deve no final emitir uma classificação sobre a participação\n",
        "da pessoa no crime.\n",
        "Se a pessoa responder positivamente a 2 questões ela deve ser\n",
        "classificada como \"\"Suspeita\"\", entre 3 e 4 como \"\"Cúmplice\"\" e 5 como\n",
        "\"\"Assassino\"\".\n",
        "Caso contrário,ele será classificado como\"\"Inocente\"\""
      ],
      "metadata": {
        "id": "a4hph014cjAY"
      }
    },
    {
      "cell_type": "code",
      "source": [
        "perguntas = [\"Telefonou para a vítima?\", \"Esteve no local do crime?\", \"Mora perto da vítima?\", \"Devia para a vítima?\", \"Já trabalhou com a vítima?\"]\n",
        "\n",
        "respostas = []\n",
        "print(\"Digite 1-Sim e 0-Não\")\n",
        "for i in range(0, len(perguntas)):\n",
        "  resposta = int(input(perguntas[i]))\n",
        "  respostas.append(resposta)\n",
        "\n",
        "respostaPositiva = respostas.count(1)\n",
        "if respostaPositiva == 2:\n",
        "  print(\"Suspeita\")\n",
        "elif respostaPositiva >= 3 and respostaPositiva <= 4:\n",
        "  print(\"Cúmplice\")\n",
        "elif respostaPositiva == 5:\n",
        "  print(\"Assassino\")\n",
        "else:\n",
        "  print(\"Inocente\")\n",
        "\n",
        "\n",
        "\n"
      ],
      "metadata": {
        "colab": {
          "base_uri": "https://localhost:8080/"
        },
        "id": "hL1JIO-EdAI1",
        "outputId": "bfa63f5c-5c1f-4291-985e-ac8244a70b01"
      },
      "execution_count": 6,
      "outputs": [
        {
          "output_type": "stream",
          "name": "stdout",
          "text": [
            "Digite 1-Sim e 0-Não\n",
            "Telefonou para a vítima?1\n",
            "Esteve no local do crime?0\n",
            "Mora perto da vítima?1\n",
            "Devia para a vítima?1\n",
            "Já trabalhou com a vítima?1\n",
            "Cúmplice\n"
          ]
        }
      ]
    },
    {
      "cell_type": "markdown",
      "source": [
        "## 2. Faça um Programa que peça as quatro notas de 5 alunos, calcule e armazene numa lista a média de cada aluno, imprima o número de alunos com média maior ou igual a 7.0."
      ],
      "metadata": {
        "id": "M_OAIMD8fMGl"
      }
    },
    {
      "cell_type": "code",
      "source": [
        "medias = []\n",
        "\n",
        "for i in range(5):\n",
        "  print(f\"Notas do Aluno {i+1}\")\n",
        "\n",
        "  notas = []\n",
        "  for j in range(4):\n",
        "    nota = float(input(f\"Digite a {j+1}ª nota: \"))\n",
        "    notas.append(nota)\n",
        "\n",
        "  medias.append(sum(notas)/4)\n",
        "\n",
        "alunos = 0\n",
        "for media in medias:\n",
        "  if media >= 7:\n",
        "    alunos +=1\n",
        "\n",
        "print(f\"Número de alunos com média maior ou igual a 7.0: {alunos}\")\n"
      ],
      "metadata": {
        "colab": {
          "base_uri": "https://localhost:8080/"
        },
        "id": "jzl72VjRfTaG",
        "outputId": "0e7264de-27d0-497d-f56a-32cd00dbc83f"
      },
      "execution_count": 7,
      "outputs": [
        {
          "output_type": "stream",
          "name": "stdout",
          "text": [
            "Notas do Aluno 1\n",
            "Digite a 1ª nota: 5\n",
            "Digite a 2ª nota: 5\n",
            "Digite a 3ª nota: 5\n",
            "Digite a 4ª nota: 1\n",
            "Notas do Aluno 2\n",
            "Digite a 1ª nota: 6\n",
            "Digite a 2ª nota: 7\n",
            "Digite a 3ª nota: 8\n",
            "Digite a 4ª nota: 9\n",
            "Notas do Aluno 3\n",
            "Digite a 1ª nota: 9\n",
            "Digite a 2ª nota: 9\n",
            "Digite a 3ª nota: 9\n",
            "Digite a 4ª nota: 9\n",
            "Notas do Aluno 4\n",
            "Digite a 1ª nota: 2\n",
            "Digite a 2ª nota: 1\n",
            "Digite a 3ª nota: 1\n",
            "Digite a 4ª nota: 3\n",
            "Notas do Aluno 5\n",
            "Digite a 1ª nota: 4\n",
            "Digite a 2ª nota: 3\n",
            "Digite a 3ª nota: 2\n",
            "Digite a 4ª nota: 1\n",
            "Número de alunos com média maior ou igual a 7.0: 2\n"
          ]
        }
      ]
    },
    {
      "cell_type": "markdown",
      "source": [
        "## 3. Crie um dicionário representando um carrinho de compras. Adicione produtos (chaves) e quantidades (valores) ao carrinho. Calcule o total do carrinho de compra.\n"
      ],
      "metadata": {
        "id": "dbkqS8nphEBx"
      }
    },
    {
      "cell_type": "code",
      "source": [
        "precos = {\n",
        "    \"maça\": 0.5,\n",
        "    \"banana\": 0.3,\n",
        "    \"laranja\": 0.4,\n",
        "    \"pão\": 1.0,\n",
        "    \"leite\": 1.5\n",
        "}\n",
        "\n",
        "carrinho = {\n",
        "    \"maça\": 4,\n",
        "    \"banana\": 10,\n",
        "    \"laranja\": 5,\n",
        "    \"pão\": 2,\n",
        "    \"leite\": 3\n",
        "}\n",
        "\n",
        "total = 0.0\n",
        "for produto, quantidade in carrinho.items():\n",
        "  if produto in precos:\n",
        "    total += quantidade * precos[produto]\n",
        "\n",
        "print(f\"Total do carrinho de compras: R${total:.2f}\")\n"
      ],
      "metadata": {
        "colab": {
          "base_uri": "https://localhost:8080/"
        },
        "id": "9fYVueG5hKYr",
        "outputId": "a7a63ed3-e188-4dfc-fd25-a2748441b129"
      },
      "execution_count": 8,
      "outputs": [
        {
          "output_type": "stream",
          "name": "stdout",
          "text": [
            "Total do carrinho de compras: R$13.50\n"
          ]
        }
      ]
    },
    {
      "cell_type": "markdown",
      "source": [
        "## 4. Crie um dicionário representando contatos (nome, telefone). Permita ao usuário procurar por um contato pelo nome.\n"
      ],
      "metadata": {
        "id": "S5dLPpNiiqiW"
      }
    },
    {
      "cell_type": "code",
      "source": [
        "contatos = {\n",
        "    \"Alice\": \"1234-5678\",\n",
        "    \"Bob\": \"2345-6789\",\n",
        "    \"Carol\": \"3456-7890\",\n",
        "    \"David\": \"4567-8901\",\n",
        "    \"Eve\": \"5678-9012\"\n",
        "}\n",
        "\n",
        "nome = input(\"Digite o nome do contato que deseja procurar: \")\n",
        "\n",
        "resultado = contatos.get(nome, \"Contato não encontrado.\")\n",
        "print(f\"Telefone de {nome}: {resultado}\")\n"
      ],
      "metadata": {
        "colab": {
          "base_uri": "https://localhost:8080/"
        },
        "id": "LBW2muLNivOW",
        "outputId": "a0eb8948-1c07-4eeb-e6d2-c367bff5d339"
      },
      "execution_count": 10,
      "outputs": [
        {
          "output_type": "stream",
          "name": "stdout",
          "text": [
            "Digite o nome do contato que deseja procurar: Bob\n",
            "Telefone de Bob: 2345-6789\n"
          ]
        }
      ]
    },
    {
      "cell_type": "markdown",
      "source": [
        "## 5. Crie duas tuplas. Concatene-as para formar uma nova tupla.:"
      ],
      "metadata": {
        "id": "wPoSJ_wDizY5"
      }
    },
    {
      "cell_type": "code",
      "source": [
        "tupla1 = (1, 2, 3)\n",
        "tupla2 = (4, 5, 6)\n",
        "\n",
        "tupla = tupla1 + tupla2\n",
        "print(tupla)\n"
      ],
      "metadata": {
        "colab": {
          "base_uri": "https://localhost:8080/"
        },
        "id": "7wYC66mXi3B4",
        "outputId": "bb874a86-de97-4301-b006-b642b0446516"
      },
      "execution_count": 11,
      "outputs": [
        {
          "output_type": "stream",
          "name": "stdout",
          "text": [
            "(1, 2, 3, 4, 5, 6)\n"
          ]
        }
      ]
    },
    {
      "cell_type": "markdown",
      "source": [
        "## 6. Faça um programa que permita ao usuário digitar o seu nome e em seguida mostre o nome do usuário de trás para frente utilizando somente letras maiúsculas. Dica: lembre−se que ao informar o nome o usuário pode digitar letras maiúsculas ou minúsculas."
      ],
      "metadata": {
        "id": "rdt-h6oei3jR"
      }
    },
    {
      "cell_type": "code",
      "source": [
        "nome = input(\"Digite seu nome: \").upper()\n",
        "\n",
        "print(f\"Nome ao contrário: {nome[::-1]}\")"
      ],
      "metadata": {
        "colab": {
          "base_uri": "https://localhost:8080/"
        },
        "id": "-Aa4wZa_i8ms",
        "outputId": "f3f25f55-4c8f-4055-84de-5e0b899ac566"
      },
      "execution_count": 13,
      "outputs": [
        {
          "output_type": "stream",
          "name": "stdout",
          "text": [
            "Digite seu nome: Luiz\n",
            "Nome ao contrário: ZIUL\n"
          ]
        }
      ]
    }
  ]
}