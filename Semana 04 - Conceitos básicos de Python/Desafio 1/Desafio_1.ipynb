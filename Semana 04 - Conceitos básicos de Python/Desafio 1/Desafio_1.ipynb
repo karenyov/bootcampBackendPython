{
  "nbformat": 4,
  "nbformat_minor": 0,
  "metadata": {
    "colab": {
      "provenance": []
    },
    "kernelspec": {
      "name": "python3",
      "display_name": "Python 3"
    },
    "language_info": {
      "name": "python"
    }
  },
  "cells": [
    {
      "cell_type": "markdown",
      "source": [
        "# Exercícios Conceitos Básicos de Python"
      ],
      "metadata": {
        "id": "GMvHLNvis523"
      }
    },
    {
      "cell_type": "markdown",
      "source": [
        "## 1. Faça um Programa que peça dois números, realize as principais operações soma, subtração, multiplicação, divisão"
      ],
      "metadata": {
        "id": "EhnWIrqbs_6w"
      }
    },
    {
      "cell_type": "code",
      "source": [
        "numero1 = float(input(\"Digite o primeiro número: \"))\n",
        "numero2 = float(input(\"Digite o segundo número: \"))\n",
        "\n",
        "soma = numero1 + numero2\n",
        "print(f\"Soma: {soma:.2f}\")\n",
        "\n",
        "subtracao = numero1 - numero2\n",
        "print(f\"Subtração: {subtracao:.2f}\")\n",
        "\n",
        "multiplicacao = numero1 * numero2\n",
        "print(f\"Multiplicação: {multiplicacao:.2f}\")\n",
        "\n",
        "divisao = numero1 / numero2\n",
        "print(f\"Divisão: {divisao:.2f}\")\n",
        "\n"
      ],
      "metadata": {
        "colab": {
          "base_uri": "https://localhost:8080/"
        },
        "id": "H7gEKpGltHeq",
        "outputId": "e6acf533-0fdd-4b18-adeb-526150b5a391"
      },
      "execution_count": 3,
      "outputs": [
        {
          "output_type": "stream",
          "name": "stdout",
          "text": [
            "Digite o primeiro número: 2\n",
            "Digite o segundo número: 2\n",
            "Soma: 4.00\n",
            "Subtração: 0.00\n",
            "Multiplicação: 4.00\n",
            "Divisão: 1.00\n"
          ]
        }
      ]
    },
    {
      "cell_type": "code",
      "source": [],
      "metadata": {
        "id": "yJ2O0Ws0vE57"
      },
      "execution_count": null,
      "outputs": []
    },
    {
      "cell_type": "markdown",
      "source": [
        "## 2. Peça ao usuário para informar o ano de nascimento. Em seguida, calcule e imprima a idade atual."
      ],
      "metadata": {
        "id": "8AfQ7XTtv86M"
      }
    },
    {
      "cell_type": "code",
      "source": [
        "from datetime import datetime\n",
        "\n",
        "anoAtual = datetime.now().year # obtém o ano atual\n",
        "\n",
        "anoNascimento = int(input(\"Informe o ano de nascimento: \"))\n",
        "\n",
        "idade = anoAtual - anoNascimento\n",
        "print(f\"Sua idade é {idade}\")"
      ],
      "metadata": {
        "colab": {
          "base_uri": "https://localhost:8080/"
        },
        "id": "FFkDKVIewDTi",
        "outputId": "cb28ac76-f82e-41e4-8ab3-a55cb1dea794"
      },
      "execution_count": 4,
      "outputs": [
        {
          "output_type": "stream",
          "name": "stdout",
          "text": [
            "Informe o ano de nascimento: 1994\n",
            "Sua idade é 30\n"
          ]
        }
      ]
    },
    {
      "cell_type": "markdown",
      "source": [
        "## 3. Faça um Programa que peça a quantidade de quilômetros, transforme em metros, centímetros e milímetros.\n"
      ],
      "metadata": {
        "id": "Gs48VStHw29L"
      }
    },
    {
      "cell_type": "code",
      "source": [
        "quilometros = int(input(\"Digite a quantidade de quilômetros: \"))\n",
        "\n",
        "metros = quilometros * 1000\n",
        "centimetros = quilometros * 1000 * 100\n",
        "milimetros = quilometros * 1000 * 1000\n",
        "\n",
        "print(f\"Metros: {metros}\")\n",
        "print(f\"Centímetros: {centimetros}\")\n",
        "print(f\"Milímetros: {milimetros}\")"
      ],
      "metadata": {
        "colab": {
          "base_uri": "https://localhost:8080/"
        },
        "id": "7VBPp-2Ow8-b",
        "outputId": "dd94d5d2-9cfa-4561-f9b0-7ae3c2ab2bf1"
      },
      "execution_count": 5,
      "outputs": [
        {
          "output_type": "stream",
          "name": "stdout",
          "text": [
            "Digite a quantidade de quilômetros: 2\n",
            "Metros: 2000\n",
            "Centímetros: 200000\n",
            "Milímetros: 2000000\n"
          ]
        }
      ]
    },
    {
      "cell_type": "markdown",
      "source": [
        "## 4. Receba do usuário a quantidade de litros de combustível consumidos e a distância percorrida. Calcule e imprima o consumo médio em km/l.\n"
      ],
      "metadata": {
        "id": "DFVwx1qQxfRe"
      }
    },
    {
      "cell_type": "code",
      "source": [
        "litros = float(input(\"Digite a quantidade de litros de combustível consumidos: \"))\n",
        "distancia = float(input(\"Digite a distância percorrida: \"))\n",
        "\n",
        "consumo = distancia / litros\n",
        "\n",
        "print(f\"Consumo médio: {consumo:.2f}km/l\")"
      ],
      "metadata": {
        "colab": {
          "base_uri": "https://localhost:8080/"
        },
        "id": "R4dJtEwIxkyP",
        "outputId": "8bd3ce8d-a620-4b24-a92e-94f0eb05608e"
      },
      "execution_count": 6,
      "outputs": [
        {
          "output_type": "stream",
          "name": "stdout",
          "text": [
            "Digite a quantidade de litros de combustível consumidos: 2\n",
            "Digite a distância percorrida: 3\n",
            "Consumo médio: 1.50km/l\n"
          ]
        }
      ]
    },
    {
      "cell_type": "markdown",
      "source": [
        "## 5. Escreva um programa que calcule o salário líquido. Lembrando de declarar o salário bruto e o percentual de desconto do Imposto de Renda\n",
        "\n",
        "*   Renda até R$ 1.903,98: isento de imposto de renda;\n",
        "\n",
        "*   Renda entre R$ 1.903,99 e R$ 2.826,65: alíquota de 7,5%;\n",
        "*   Renda entre R$ 2.826,66 e R$ 3.751,05: alíquota de 15%;\n",
        "*   Renda entre R$ 3.751,06 e R$ 4.664,68: alíquota de 22,5%;\n",
        "*   Renda acima de R$ 4.664,68: alíquota máxima de 27,5%.\n",
        "\n"
      ],
      "metadata": {
        "id": "h-szCOUeynsz"
      }
    },
    {
      "cell_type": "code",
      "source": [
        "salario = float(input(\"Digite o salário: \"))\n",
        "\n",
        "desconto = 0\n",
        "if salario <= 1903.98:\n",
        "    desconto = 0\n",
        "elif salario <= 2826.65:\n",
        "    desconto = salario * 0.075\n",
        "elif salario <= 3751.05:\n",
        "    desconto = salario * 0.15\n",
        "elif salario <= 4664.68:\n",
        "    desconto = salario * 0.225\n",
        "else:\n",
        "    desconto = salario * 0.275\n",
        "\n",
        "salarioLiquido = salario - desconto\n",
        "\n",
        "print(f\"Salário bruto: R$ {salario:.2f}\")\n",
        "print(f\"Desconto de IR: R$ {desconto:.2f}\")\n",
        "print(f\"Salário líquido: R$ {salarioLiquido:.2f}\")"
      ],
      "metadata": {
        "colab": {
          "base_uri": "https://localhost:8080/"
        },
        "id": "j_BkENSEzFK-",
        "outputId": "0e634428-dff6-4e14-c3f0-8ddae8250a4d"
      },
      "execution_count": 7,
      "outputs": [
        {
          "output_type": "stream",
          "name": "stdout",
          "text": [
            "Digite o salário: 1900\n",
            "Salário bruto: R$ 1900.00\n",
            "Desconto de IR: R$ 0.00\n",
            "Salário líquido: R$ 1900.00\n"
          ]
        }
      ]
    },
    {
      "cell_type": "markdown",
      "source": [
        "## 6. Escreva um programa que calcule o tempo de uma viagem. Faça um comparativo do mesmo percurso de avião, carro e ônibus.\n",
        "\n",
        "Levando em consideração:\n",
        "\n",
        "*   avião = 600 km/h\n",
        "*   carro = 100 km/h\n",
        "*   ônibus = 80 km/h\n",
        "\n",
        "\n",
        "\n"
      ],
      "metadata": {
        "id": "QV6noZqY0A9x"
      }
    },
    {
      "cell_type": "code",
      "source": [
        "distancia = float(input(\"Digite a distância da viagem (em km): \"))\n",
        "\n",
        "velocidadeAviao = 600\n",
        "velocidadeCarro = 100\n",
        "velocidadeOnibus = 80\n",
        "\n",
        "tempoAviao = distancia / velocidadeAviao\n",
        "tempoCarro = distancia / velocidadeCarro\n",
        "tempoOnibus = distancia / velocidadeOnibus\n",
        "\n",
        "print(f\"Tempo de viagem de avião: {tempoAviao:.2f} horas\")\n",
        "print(f\"Tempo de viagem de carro: {tempoCarro:.2f} horas\")\n",
        "print(f\"Tempo de viagem de ônibus: {tempoOnibus:.2f} horas\")"
      ],
      "metadata": {
        "colab": {
          "base_uri": "https://localhost:8080/"
        },
        "id": "twC3fr650O8R",
        "outputId": "4b144055-e555-4b64-e465-9374b680f446"
      },
      "execution_count": 8,
      "outputs": [
        {
          "output_type": "stream",
          "name": "stdout",
          "text": [
            "Digite a distância da viagem (em km): 300\n",
            "Tempo de viagem de avião: 0.50 horas\n",
            "Tempo de viagem de carro: 3.00 horas\n",
            "Tempo de viagem de ônibus: 3.75 horas\n"
          ]
        }
      ]
    },
    {
      "cell_type": "markdown",
      "source": [
        "## 7. Solicite ao usuário o peso em kg e a altura em metros. Calcule e imprima o Índice de Massa Corporal (IMC) usando a fórmula: IMC = peso / (altura x altura)."
      ],
      "metadata": {
        "id": "6ixu63h902oh"
      }
    },
    {
      "cell_type": "code",
      "source": [
        "peso = float(input(\"Digite o seu peso (em kg): \"))\n",
        "altura = float(input(\"Digite a sua altura (em metros): \"))\n",
        "\n",
        "imc = peso / (altura ** 2)\n",
        "\n",
        "print(f\"Seu Índice de Massa Corporal (IMC) é: {imc:.2f}\")"
      ],
      "metadata": {
        "colab": {
          "base_uri": "https://localhost:8080/"
        },
        "id": "JjMNm6n00_Ec",
        "outputId": "a48e1291-788f-4a32-cb26-29cca8e81dc2"
      },
      "execution_count": 9,
      "outputs": [
        {
          "output_type": "stream",
          "name": "stdout",
          "text": [
            "Digite o seu peso (em kg): 40\n",
            "Digite a sua altura (em metros): 1.5\n",
            "Seu Índice de Massa Corporal (IMC) é: 17.78\n"
          ]
        }
      ]
    },
    {
      "cell_type": "markdown",
      "source": [
        "## 8. Faça um Programa que pergunte quanto você ganha por hora e o número de horas trabalhadas no mês.Calcule e mostre o total do seu salário no referido mês.\n"
      ],
      "metadata": {
        "id": "YXnbJ7xP1RoA"
      }
    },
    {
      "cell_type": "code",
      "source": [
        "valor = float(input(\"Digite quanto você ganha por hora (em R$): \"))\n",
        "horas = float(input(\"Digite o número de horas trabalhadas no mês: \"))\n",
        "\n",
        "salario = valor * horas\n",
        "\n",
        "print(f\"O total do seu salário no mês é: R$ {salario:.2f}\")"
      ],
      "metadata": {
        "colab": {
          "base_uri": "https://localhost:8080/"
        },
        "id": "hqMe7khy1XBH",
        "outputId": "75f45202-2ea6-4811-a963-7c48741acfee"
      },
      "execution_count": 10,
      "outputs": [
        {
          "output_type": "stream",
          "name": "stdout",
          "text": [
            "Digite quanto você ganha por hora (em R$): 30\n",
            "Digite o número de horas trabalhadas no mês: 8\n",
            "O total do seu salário no mês é: R$ 240.00\n"
          ]
        }
      ]
    },
    {
      "cell_type": "markdown",
      "source": [
        "## 9. Solicite ao usuário o número de horas de exercício físico por semana. Calcule o total de calorias queimadas em um mês, considerando uma média de 5 calorias por minuto de exercício."
      ],
      "metadata": {
        "id": "NY9BCrGt8tBO"
      }
    },
    {
      "cell_type": "code",
      "source": [
        "horas = float(input(\"Digite o número de horas de exercício físico por semana: \"))\n",
        "\n",
        "minutos = horas * 60\n",
        "minutosMes = minutos * 4\n",
        "\n",
        "total = minutosMes * 5\n",
        "\n",
        "print(f\"O total de calorias queimadas em um mês é: {total} calorias\")\n"
      ],
      "metadata": {
        "colab": {
          "base_uri": "https://localhost:8080/"
        },
        "id": "6vznqx7x8yxi",
        "outputId": "7f93c4a1-fbeb-4c43-a807-2f2d1ed703a1"
      },
      "execution_count": 11,
      "outputs": [
        {
          "output_type": "stream",
          "name": "stdout",
          "text": [
            "Digite o número de horas de exercício físico por semana: 5\n",
            "O total de calorias queimadas em um mês é: 6000.0 calorias\n"
          ]
        }
      ]
    },
    {
      "cell_type": "markdown",
      "source": [
        "## Faça um Programa que utilize 4 variáveis como preferir e no final print uma mensagem amigável utilizando as variáveis criadas.\n",
        "\n",
        "Exemplos de variáveis: nome, idade, lugar, profissão ....\n",
        "\n",
        "Exemplo de retorno: Olá Maria, prazer te conhecer. Sou de São Paulo\n",
        "também e estou migrando de área.\n",
        "\n",
        "> Lembrando que para o retorno vamos usar print com as variáveis criadas e este texto é somente um exemplo, utilizem a criatividade.\n"
      ],
      "metadata": {
        "id": "v7HmuAMt-CtP"
      }
    },
    {
      "cell_type": "code",
      "source": [
        "nome = input(\"Qual o seu nome? \")\n",
        "hobby = input(\"Qual o seu hobby? \")\n",
        "cidade = input(\"Qual cidade você mora? \")\n",
        "trabalho = input(\"Com o que você trabalha? \")\n",
        "\n",
        "print(f\"Oi {nome}! É ótimo saber que você gosta de {hobby}. Eu também sou apaixonado por {hobby}! Além disso, sou de {cidade} e também trabalho com {trabalho}. Vamos conversar mais sobre nossos interesses em comum!\")\n"
      ],
      "metadata": {
        "colab": {
          "base_uri": "https://localhost:8080/"
        },
        "id": "H6WCw2pe-VAV",
        "outputId": "a00118c1-bae5-48c6-b26d-70b28d677896"
      },
      "execution_count": 13,
      "outputs": [
        {
          "output_type": "stream",
          "name": "stdout",
          "text": [
            "Qual o seu nome? Karen\n",
            "Qual o seu hobby? jogar\n",
            "Qual cidade você mora? sjc\n",
            "Com o que você trabalha? software developer\n",
            "Oi Karen! É ótimo saber que você gosta de jogar. Eu também sou apaixonado por jogar! Além disso, sou de sjc e também trabalho com software developer. Vamos conversar mais sobre nossos interesses em comum!\n"
          ]
        }
      ]
    }
  ]
}