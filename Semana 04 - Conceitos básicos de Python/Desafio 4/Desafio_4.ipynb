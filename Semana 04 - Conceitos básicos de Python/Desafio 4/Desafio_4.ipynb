{
  "nbformat": 4,
  "nbformat_minor": 0,
  "metadata": {
    "colab": {
      "provenance": []
    },
    "kernelspec": {
      "name": "python3",
      "display_name": "Python 3"
    },
    "language_info": {
      "name": "python"
    }
  },
  "cells": [
    {
      "cell_type": "markdown",
      "source": [
        "# Exercícios Funções"
      ],
      "metadata": {
        "id": "hq11CSUPxCdA"
      }
    },
    {
      "cell_type": "markdown",
      "source": [
        "## 1. Faça um programa, com uma função que necessite de três argumentos, e que forneça a soma desses três argumentos"
      ],
      "metadata": {
        "id": "5FpTj2DExH3i"
      }
    },
    {
      "cell_type": "code",
      "source": [
        "def soma (numero1, numero2, numero3):\n",
        "  return numero1 + numero2 + numero3\n",
        "\n",
        "print(f\"A Soma de 4+5+6 = {soma(4,5,6)}\")"
      ],
      "metadata": {
        "colab": {
          "base_uri": "https://localhost:8080/"
        },
        "id": "mVxm5Bm_xLZU",
        "outputId": "c52c8ffd-1de6-411f-8ecf-84cda4849986"
      },
      "execution_count": 1,
      "outputs": [
        {
          "output_type": "stream",
          "name": "stdout",
          "text": [
            "A Soma de 4+5+6 = 15\n"
          ]
        }
      ]
    },
    {
      "cell_type": "markdown",
      "source": [
        "## 2. Reverso do número. Faça uma função que retorne o reverso de um número inteiro informado. Por exemplo: 127 -> 721.\n"
      ],
      "metadata": {
        "id": "UCh0NWI0xdYz"
      }
    },
    {
      "cell_type": "code",
      "source": [
        "def reverso(numero):\n",
        "  return str(numero)[::-1]\n",
        "\n",
        "numero = int(input(\"Digite um número: \"))\n",
        "print(f\"O reverso do número {numero} = {reverso(numero)}\")"
      ],
      "metadata": {
        "colab": {
          "base_uri": "https://localhost:8080/"
        },
        "id": "yiu3jKqXxhfd",
        "outputId": "720c3172-dcb3-4a74-8095-dadeb6ee7c80"
      },
      "execution_count": 3,
      "outputs": [
        {
          "output_type": "stream",
          "name": "stdout",
          "text": [
            "Digite um número: 721\n",
            "O reverso do número 721 = 127\n"
          ]
        }
      ]
    },
    {
      "cell_type": "markdown",
      "source": [
        "## 3. Escreva um script que pergunta ao usuário se ele deseja converter uma temperatura de grau Celsius para Fahrenheit ou vice-versa. Para cada opção, crie uma função.\n",
        "\n",
        "> Extra: Crie uma terceira, que é um menu para o usuário escolher a\n",
        "opção desejada, onde esse menu chama a função de conversão\n",
        "correta.\n"
      ],
      "metadata": {
        "id": "E93BN1LRxnmd"
      }
    },
    {
      "cell_type": "code",
      "source": [
        "def celsius_para_fahrenheit(celsius):\n",
        "    return (celsius * 9/5) + 32\n",
        "\n",
        "def fahrenheit_para_celsius(fahrenheit):\n",
        "    return (fahrenheit - 32) * 5/9\n",
        "\n",
        "def menu():\n",
        "    print(\"Escolha uma opção de conversão:\")\n",
        "    print(\"1. Celsius para Fahrenheit\")\n",
        "    print(\"2. Fahrenheit para Celsius\")\n",
        "    print(\"3. Sair\")\n",
        "\n",
        "    escolha = int(input(\"Digite o número da sua escolha: \"))\n",
        "\n",
        "    if escolha == 1:\n",
        "        celsius = float(input(\"Digite a temperatura em graus Celsius: \"))\n",
        "        fahrenheit = celsius_para_fahrenheit(celsius)\n",
        "        print(f\"{celsius}°C é igual a {fahrenheit}°F\")\n",
        "    elif escolha == 2:\n",
        "        fahrenheit = float(input(\"Digite a temperatura em graus Fahrenheit: \"))\n",
        "        celsius = fahrenheit_para_celsius(fahrenheit)\n",
        "        print(f\"{fahrenheit}°F é igual a {celsius}°C\")\n",
        "    elif escolha == 3:\n",
        "        print(\"Saindo...\")\n",
        "    else:\n",
        "        print(\"Escolha inválida. Tente novamente.\")\n",
        "        menu()\n",
        "\n",
        "# Executar o menu\n",
        "menu()\n"
      ],
      "metadata": {
        "id": "RZIn_WxlxrA3"
      },
      "execution_count": null,
      "outputs": []
    },
    {
      "cell_type": "markdown",
      "source": [
        "## 4. Crie um programa que leia quanto dinheiro uma pessoa tem na carteira, e calcule quanto poderia comprar de cada moeda estrangeira. Considere a tabela de conversão abaixo:\n",
        "\n",
        "*   Dólar Americano: R$ 4,91\n",
        "\n",
        "*   Peso Argentino: R$ 0,02\n",
        "\n",
        "*   Dólar Australiano: R$ 3,18\n",
        "\n",
        "*   Dólar Canadense: R$ 3,64\n",
        "\n",
        "*   Franco Suiço: R$ 0,42\n",
        "\n",
        "*   Euro: R$ 5,36\n",
        "\n",
        "*   Libra esterlina: R$ 6,21\n"
      ],
      "metadata": {
        "id": "sgPOCI4wxreu"
      }
    },
    {
      "cell_type": "code",
      "source": [
        "def converter_moeda(dinheiro):\n",
        "  taxas = {\n",
        "        \"Dólar Americano\": 4.91,\n",
        "        \"Peso Argentino\": 0.02,\n",
        "        \"Dólar Australiano\": 3.18,\n",
        "        \"Dólar Canadense\": 3.64,\n",
        "        \"Franco Suiço\": 0.42,\n",
        "        \"Euro\": 5.36,\n",
        "        \"Libra Esterlina\": 6.21\n",
        "    }\n",
        "  print(\"Você pode comprar o seguinte com R$\", dinheiro)\n",
        "  for moeda, taxa in taxas.items():\n",
        "    quantidade = dinheiro / taxa\n",
        "    print(f\"{quantidade:.2f} {moeda}\")\n",
        "\n",
        "dinheiro = float(input(\"Digite a quantidade de dinheiro que você tem na carteira (em reais): R$ \"))\n",
        "converter_moeda(dinheiro)"
      ],
      "metadata": {
        "colab": {
          "base_uri": "https://localhost:8080/"
        },
        "id": "0Znt_Kg8yE1N",
        "outputId": "b5cfd873-58e5-4de8-eb59-d7a7e560e8eb"
      },
      "execution_count": 4,
      "outputs": [
        {
          "output_type": "stream",
          "name": "stdout",
          "text": [
            "Digite a quantidade de dinheiro que você tem na carteira (em reais): R$ 100\n",
            "Você pode comprar o seguinte com R$ 100.0\n",
            "20.37 Dólar Americano\n",
            "5000.00 Peso Argentino\n",
            "31.45 Dólar Australiano\n",
            "27.47 Dólar Canadense\n",
            "238.10 Franco Suiço\n",
            "18.66 Euro\n",
            "16.10 Libra Esterlina\n"
          ]
        }
      ]
    },
    {
      "cell_type": "markdown",
      "source": [
        "## 5. Crie uma função chamada contar_vogais que recebe uma string como parâmetro. Implemente a lógica para contar o número de vogais na string e retorne o total de vogais. Solicite ao usuário para inserir uma frase e utilize a função para contar as vogais."
      ],
      "metadata": {
        "id": "ShvHr9b3yFLj"
      }
    },
    {
      "cell_type": "code",
      "source": [
        "def contar_vogais(frase):\n",
        "    vogais = \"aeiouAEIOU\"\n",
        "    contador = 0\n",
        "\n",
        "    for caractere in frase:\n",
        "        if caractere in vogais:\n",
        "            contador += 1\n",
        "    return contador\n",
        "\n",
        "frase = input(\"Digite uma frase: \")\n",
        "total_vogais = contar_vogais(frase)\n",
        "print(f\"A frase fornecida contém {total_vogais} vogais.\")"
      ],
      "metadata": {
        "colab": {
          "base_uri": "https://localhost:8080/"
        },
        "id": "HK1-1ah3yLSN",
        "outputId": "09f85461-be52-49cc-d8d3-6f0e9a1426f2"
      },
      "execution_count": 5,
      "outputs": [
        {
          "output_type": "stream",
          "name": "stdout",
          "text": [
            "Digite uma frase: contar quantas vogais tem aqui\n",
            "A frase fornecida contém 12 vogais.\n"
          ]
        }
      ]
    },
    {
      "cell_type": "markdown",
      "source": [
        "## 6. Vamos construir um jogo de forca. O programa escolherá aleatoriamente uma palavra secreta de uma lista predefinida. A palavra secreta será representada por espaços em branco, um para cada letra da palavra. O jogador terá um número limitado de 6 tentativas. Em cada tentativa, o jogador pode fornecer uma letra. Se a letra estiver presente na palavra secreta, ela será revelada nas posições correspondentes. Se a letra não estiver na palavra, uma mensagem de erro deverá ser informada. Após um número máximo de erros, o jogador perde. O jogo continua até que o jogador adivinhe a palavra ou exceda o número máximo de tentativas.\n",
        "\n",
        "> Dica: Você precisará importar uma biblioteca para resolver esse\n",
        "exercício"
      ],
      "metadata": {
        "id": "BxIbDudeyLrt"
      }
    },
    {
      "cell_type": "code",
      "source": [
        "import random\n",
        "\n",
        "def escolher_palavra():\n",
        "    palavras = [\"python\", \"programacao\", \"desenvolvimento\", \"computador\", \"algoritmo\"]\n",
        "    return random.choice(palavras)\n",
        "\n",
        "def exibir_palavra_oculta(palavra, letras_corretas):\n",
        "    return ' '.join([letra if letra in letras_corretas else '_' for letra in palavra])\n",
        "\n",
        "def jogo_forca():\n",
        "    palavra_secreta = escolher_palavra()\n",
        "    letras_corretas = set()\n",
        "    letras_erradas = set()\n",
        "    tentativas_restantes = 6\n",
        "\n",
        "    print(\"Bem-vindo ao jogo da forca!\")\n",
        "    print(f\"A palavra tem {len(palavra_secreta)} letras.\")\n",
        "\n",
        "    while tentativas_restantes > 0:\n",
        "        print(\"\\nPalavra: \", exibir_palavra_oculta(palavra_secreta, letras_corretas))\n",
        "        print(\"Letras erradas: \", ' '.join(letras_erradas))\n",
        "        print(f\"Tentativas restantes: {tentativas_restantes}\")\n",
        "\n",
        "        letra = input(\"Digite uma letra: \").lower()\n",
        "\n",
        "        if letra in letras_corretas or letra in letras_erradas:\n",
        "            print(\"Você já tentou essa letra.\")\n",
        "            continue\n",
        "\n",
        "        if letra in palavra_secreta:\n",
        "            letras_corretas.add(letra)\n",
        "            if all(letra in letras_corretas for letra in palavra_secreta):\n",
        "                print(f\"Parabéns! Você adivinhou a palavra: {palavra_secreta}\")\n",
        "                break\n",
        "        else:\n",
        "            letras_erradas.add(letra)\n",
        "            tentativas_restantes -= 1\n",
        "            if tentativas_restantes == 0:\n",
        "                print(f\"Você perdeu! A palavra era: {palavra_secreta}\")\n",
        "\n",
        "# Executar o jogo\n",
        "jogo_forca()\n"
      ],
      "metadata": {
        "colab": {
          "base_uri": "https://localhost:8080/"
        },
        "id": "fDVAOxvhyW8r",
        "outputId": "9727741c-248c-486b-b52b-a99b80b13520"
      },
      "execution_count": 6,
      "outputs": [
        {
          "output_type": "stream",
          "name": "stdout",
          "text": [
            "Bem-vindo ao jogo da forca!\n",
            "A palavra tem 9 letras.\n",
            "\n",
            "Palavra:  _ _ _ _ _ _ _ _ _\n",
            "Letras erradas:  \n",
            "Tentativas restantes: 6\n",
            "Digite uma letra: z\n",
            "\n",
            "Palavra:  _ _ _ _ _ _ _ _ _\n",
            "Letras erradas:  z\n",
            "Tentativas restantes: 5\n",
            "Digite uma letra: g\n",
            "\n",
            "Palavra:  _ _ g _ _ _ _ _ _\n",
            "Letras erradas:  z\n",
            "Tentativas restantes: 5\n",
            "Digite uma letra: b\n",
            "\n",
            "Palavra:  _ _ g _ _ _ _ _ _\n",
            "Letras erradas:  b z\n",
            "Tentativas restantes: 4\n",
            "Digite uma letra: a\n",
            "\n",
            "Palavra:  a _ g _ _ _ _ _ _\n",
            "Letras erradas:  b z\n",
            "Tentativas restantes: 4\n",
            "Digite uma letra: r\n",
            "\n",
            "Palavra:  a _ g _ r _ _ _ _\n",
            "Letras erradas:  b z\n",
            "Tentativas restantes: 4\n",
            "Digite uma letra: o\n",
            "\n",
            "Palavra:  a _ g o r _ _ _ o\n",
            "Letras erradas:  b z\n",
            "Tentativas restantes: 4\n",
            "Digite uma letra: p\n",
            "\n",
            "Palavra:  a _ g o r _ _ _ o\n",
            "Letras erradas:  b p z\n",
            "Tentativas restantes: 3\n",
            "Digite uma letra: r\n",
            "Você já tentou essa letra.\n",
            "\n",
            "Palavra:  a _ g o r _ _ _ o\n",
            "Letras erradas:  b p z\n",
            "Tentativas restantes: 3\n",
            "Digite uma letra: p\n",
            "Você já tentou essa letra.\n",
            "\n",
            "Palavra:  a _ g o r _ _ _ o\n",
            "Letras erradas:  b p z\n",
            "Tentativas restantes: 3\n",
            "Digite uma letra: l\n",
            "\n",
            "Palavra:  a l g o r _ _ _ o\n",
            "Letras erradas:  b p z\n",
            "Tentativas restantes: 3\n",
            "Digite uma letra: t\n",
            "\n",
            "Palavra:  a l g o r _ t _ o\n",
            "Letras erradas:  b p z\n",
            "Tentativas restantes: 3\n",
            "Digite uma letra: i\n",
            "\n",
            "Palavra:  a l g o r i t _ o\n",
            "Letras erradas:  b p z\n",
            "Tentativas restantes: 3\n",
            "Digite uma letra: m\n",
            "Parabéns! Você adivinhou a palavra: algoritmo\n"
          ]
        }
      ]
    }
  ]
}